{
 "cells": [
  {
   "cell_type": "code",
   "execution_count": 1,
   "id": "cfa64a6e",
   "metadata": {
    "scrolled": true
   },
   "outputs": [
    {
     "name": "stdout",
     "output_type": "stream",
     "text": [
      "kaj so to pajki?\n"
     ]
    }
   ],
   "source": [
    "print('kaj so to pajki?')"
   ]
  },
  {
   "cell_type": "code",
   "execution_count": 2,
   "id": "2c42bcaa",
   "metadata": {},
   "outputs": [
    {
     "name": "stdout",
     "output_type": "stream",
     "text": [
      "<!DOCTYPE html><html><head>\n",
      "  <meta charset=\"utf-8\">\n",
      "  <title>ARSO vreme</title>\n",
      "  <base href=\"/\">\n",
      "\n",
      "  <meta name=\"viewport\" content=\"width=device-width, initial-scale=1\">\n",
      "  <link rel=\"icon\" type=\"image/x-icon\" href=\"favicon.ico\">\n",
      "  <style>html, \n",
      "body {\n",
      "    height: 100%;\n",
      "    margin:0;\n",
      "}\n",
      "\n",
      ".loading {\n",
      "    background: #0082bc;\n",
      "    color: #FFFFFF;\n",
      "    width:100%;\n",
      "    height:100%;\n",
      "    margin:0;\n",
      "}\n",
      "\n",
      ".loading span {\n",
      "    display:none;\n",
      "    position:absolute;\n",
      "    top:20px;\n",
      "    left:20px;\n",
      "    font-family: 'Open Sans', arial, helvetica, sans-serif;\n",
      "}\n",
      "\n",
      ".loading img {\n",
      "    width:150px;\n",
      "    height:22px;\n",
      "    margin-left:100px;\n",
      "    margin-top:50px;\n",
      "}</style><link rel=\"stylesheet\" type=\"text/css\" href=\"default.css\" media=\"print\" onload=\"this.media='all'\"><noscript><link rel=\"stylesheet\" href=\"default.css\"></noscript>\n",
      "  <style>/* Slider */\n",
      "</style><link rel=\"stylesheet\" type=\"text/css\" href=\"slick.css\" media=\"print\" onload=\"this.media='all'\"><noscript><link rel=\"stylesheet\" href=\"slick.css\"></noscript>\n",
      "  <style>@charset 'UTF-8'\n",
      "/* Slider */\n",
      "\n",
      "/* Icons */\n",
      "/* Arrows */\n",
      "\n",
      "/* Dots */\n",
      "</style><link rel=\"stylesheet\" type=\"text/css\" href=\"slick-theme.css\" media=\"print\" onload=\"this.media='all'\"><noscript><link rel=\"stylesheet\" href=\"slick-theme.css\"></noscript>\n",
      "\n",
      "  <link rel=\"apple-touch-icon-precomposed\" sizes=\"57x57\" href=\"apple-touch-icon-57x57.png\">\n",
      "  <link rel=\"apple-touch-icon-precomposed\" sizes=\"114x114\" href=\"apple-touch-icon-114x114.png\">\n",
      "  <link rel=\"apple-touch-icon-precomposed\" sizes=\"72x72\" href=\"apple-touch-icon-72x72.png\">\n",
      "  <link rel=\"apple-touch-icon-precomposed\" sizes=\"144x144\" href=\"apple-touch-icon-144x144.png\">\n",
      "  <link rel=\"apple-touch-icon-precomposed\" sizes=\"60x60\" href=\"apple-touch-icon-60x60.png\">\n",
      "  <link rel=\"apple-touch-icon-precomposed\" sizes=\"120x120\" href=\"apple-touch-icon-120x120.png\">\n",
      "  <link rel=\"apple-touch-icon-precomposed\" sizes=\"76x76\" href=\"apple-touch-icon-76x76.png\">\n",
      "  <link rel=\"apple-touch-icon-precomposed\" sizes=\"152x152\" href=\"apple-touch-icon-152x152.png\">\n",
      "  <link rel=\"apple-touch-icon-precomposed\" sizes=\"180x180\" href=\"apple-touch-icon-180x180.png\">\n",
      "  <link rel=\"apple-touch-icon\" sizes=\"57x57\" href=\"apple-touch-icon-57x57.png\">\n",
      "  <link rel=\"apple-touch-icon\" sizes=\"114x114\" href=\"apple-touch-icon-114x114.png\">\n",
      "  <link rel=\"apple-touch-icon\" sizes=\"72x72\" href=\"apple-touch-icon-72x72.png\">\n",
      "  <link rel=\"apple-touch-icon\" sizes=\"144x144\" href=\"apple-touch-icon-144x144.png\">\n",
      "  <link rel=\"apple-touch-icon\" sizes=\"60x60\" href=\"apple-touch-icon-60x60.png\">\n",
      "  <link rel=\"apple-touch-icon\" sizes=\"120x120\" href=\"apple-touch-icon-120x120.png\">\n",
      "  <link rel=\"apple-touch-icon\" sizes=\"76x76\" href=\"apple-touch-icon-76x76.png\">\n",
      "  <link rel=\"apple-touch-icon\" sizes=\"152x152\" href=\"apple-touch-icon-152x152.png\">\n",
      "  <link rel=\"apple-touch-icon\" sizes=\"180x180\" href=\"apple-touch-icon-180x180.png\">\n",
      "  <link rel=\"icon\" type=\"image/png\" href=\"favicon-196x196.png\" sizes=\"196x196\">\n",
      "  <link rel=\"icon\" type=\"image/png\" href=\"favicon-192x192.png\" sizes=\"192x192\">\n",
      "  <link rel=\"icon\" type=\"image/png\" href=\"favicon-96x96.png\" sizes=\"96x96\">\n",
      "  <link rel=\"icon\" type=\"image/png\" href=\"favicon-32x32.png\" sizes=\"32x32\">\n",
      "  <link rel=\"icon\" type=\"image/png\" href=\"favicon-16x16.png\" sizes=\"16x16\">\n",
      "  <link rel=\"icon\" type=\"image/png\" href=\"favicon-128.png\" sizes=\"128x128\">\n",
      "  <meta name=\"application-name\" content=\"&nbsp;\">\n",
      "  <meta name=\"msapplication-TileColor\" content=\"#FFFFFF\">\n",
      "  <meta name=\"msapplication-TileImage\" content=\"mstile-144x144.png\">\n",
      "  <meta name=\"msapplication-square70x70logo\" content=\"mstile-70x70.png\">\n",
      "  <meta name=\"msapplication-square150x150logo\" content=\"mstile-150x150.png\">\n",
      "  <meta name=\"msapplication-wide310x150logo\" content=\"mstile-310x150.png\">\n",
      "  <meta name=\"msapplication-square310x310logo\" content=\"mstile-310x310.png\">\n",
      "  <meta name=\"mobile-web-app-capable\" content=\"yes\">\n",
      "  <meta name=\"apple-mobile-web-app-capable\" content=\"yes\">\n",
      "  <meta name=\"apple-mobile-web-app-status-bar-style\" content=\"black\">\n",
      "\n",
      "  <meta property=\"og:image\" content=\"/static/images/NovoARSOvreme.png\">\n",
      "  <meta property=\"og:title\" content=\"ARSO vreme\">\n",
      "  <meta property=\"og:description\" content=\"Desetdnevna vremenska napoved za priljubljene lokacije.\">\n",
      "\n",
      "  <link rel=\"manifest\" href=\"manifest.json\">\n",
      "  <meta name=\"theme-color\" content=\"#1976d2\">\n",
      "<style>* {\n",
      "  box-sizing: border-box;\n",
      "}\n",
      "\n",
      "html, body, div, span, img {\n",
      "  margin: 0;\n",
      "  padding: 0;\n",
      "  border: 0;\n",
      "  font-size: 100%;\n",
      "  vertical-align: baseline;\n",
      "}\n",
      "\n",
      "body {\n",
      "  line-height: 1;\n",
      "}\n",
      "\n",
      "</style><link rel=\"stylesheet\" href=\"styles.2aefe1fac85b0e08.css\" media=\"print\" onload=\"this.media='all'\"><noscript><link rel=\"stylesheet\" href=\"styles.2aefe1fac85b0e08.css\"></noscript></head>\n",
      "<body>\n",
      "  <app-root><div class=\"loading\"><span id=\"loading-msg\">Nalagam ...</span><img src=\"app/common/images/svg/menu/arso_vreme.svg\"></div></app-root>\n",
      "  <script type=\"text/javascript\">\n",
      "    if (document.getElementById(\"loading-msg\")) {\n",
      "      document.getElementById(\"loading-msg\").style.display = \"block\";\n",
      "    }\n",
      "\n",
      "    (function(i,s,o,g,r,a,m){i['GoogleAnalyticsObject']=r;i[r]=i[r]||function(){\n",
      "        (i[r].q=i[r].q||[]).push(arguments)},i[r].l=1*new Date();a=s.createElement(o),\n",
      "      m=s.getElementsByTagName(o)[0];a.async=1;a.src=g;m.parentNode.insertBefore(a,m)\n",
      "    })(window,document,'script','https://www.google-analytics.com/analytics.js','ga');\n",
      "  </script>\n",
      "  <noscript>Please enable JavaScript to continue using this application.</noscript>\n",
      "<script src=\"runtime.05925c18eb427752.js\" type=\"module\"></script><script src=\"polyfills.2c6b11c2a043b4c3.js\" type=\"module\"></script><script src=\"main.d5da1089b987732a.js\" type=\"module\"></script>\n",
      "\n",
      "</body></html>\n"
     ]
    }
   ],
   "source": [
    "import urllib\n",
    "\n",
    "WEB_PAGE_ADDRESS = \"https://vreme.arso.gov.si\"\n",
    "\n",
    "request = urllib.request.Request(\n",
    "    WEB_PAGE_ADDRESS, \n",
    "    headers={'User-Agent': 'fri-ieps-TEST'}\n",
    ")\n",
    "\n",
    "with urllib.request.urlopen(request) as response: \n",
    "    html = response.read().decode(\"utf-8\")\n",
    "    print(html)"
   ]
  },
  {
   "cell_type": "code",
   "execution_count": 4,
   "id": "02829958",
   "metadata": {
    "scrolled": true
   },
   "outputs": [
    {
     "name": "stdout",
     "output_type": "stream",
     "text": [
      "<selenium.webdriver.firefox.service.Service object at 0x7f6b4c111f40>\n",
      "<selenium.webdriver.firefox.options.Options object at 0x7f6b4c5234f0>\n"
     ]
    },
    {
     "ename": "NoSuchDriverException",
     "evalue": "Message: Unable to locate or obtain driver for firefox; For documentation on this error, please visit: https://www.selenium.dev/documentation/webdriver/troubleshooting/errors/driver_location\n",
     "output_type": "error",
     "traceback": [
      "\u001b[0;31m---------------------------------------------------------------------------\u001b[0m",
      "\u001b[0;31mNoSuchDriverException\u001b[0m                     Traceback (most recent call last)",
      "Cell \u001b[0;32mIn[4], line 29\u001b[0m\n\u001b[1;32m     25\u001b[0m firefox_options\u001b[38;5;241m.\u001b[39madd_argument(\u001b[38;5;124m\"\u001b[39m\u001b[38;5;124muser-agent=fri-ieps-TEST\u001b[39m\u001b[38;5;124m\"\u001b[39m)\n\u001b[1;32m     27\u001b[0m \u001b[38;5;66;03m# print(f\"Retrieving web page URL '{WEB_PAGE_ADDRESS}'\")\u001b[39;00m\n\u001b[1;32m     28\u001b[0m \u001b[38;5;66;03m# driver = webdriver.Firefox(executable_path=WEB_DRIVER_LOCATION, options=firefox_options)\u001b[39;00m\n\u001b[0;32m---> 29\u001b[0m driver \u001b[38;5;241m=\u001b[39m \u001b[43mwebdriver\u001b[49m\u001b[38;5;241;43m.\u001b[39;49m\u001b[43mFirefox\u001b[49m\u001b[43m(\u001b[49m\u001b[43mservice\u001b[49m\u001b[38;5;241;43m=\u001b[39;49m\u001b[43mservice\u001b[49m\u001b[43m,\u001b[49m\u001b[43m \u001b[49m\u001b[43moptions\u001b[49m\u001b[38;5;241;43m=\u001b[39;49m\u001b[43mfirefox_options\u001b[49m\u001b[43m)\u001b[49m\n",
      "File \u001b[0;32m/opt/conda/envs/wier/lib/python3.9/site-packages/selenium/webdriver/firefox/webdriver.py:59\u001b[0m, in \u001b[0;36mWebDriver.__init__\u001b[0;34m(self, options, service, keep_alive)\u001b[0m\n\u001b[1;32m     56\u001b[0m \u001b[38;5;28mself\u001b[39m\u001b[38;5;241m.\u001b[39mservice \u001b[38;5;241m=\u001b[39m service \u001b[38;5;28;01mif\u001b[39;00m service \u001b[38;5;28;01melse\u001b[39;00m Service()\n\u001b[1;32m     57\u001b[0m options \u001b[38;5;241m=\u001b[39m options \u001b[38;5;28;01mif\u001b[39;00m options \u001b[38;5;28;01melse\u001b[39;00m Options()\n\u001b[0;32m---> 59\u001b[0m \u001b[38;5;28mself\u001b[39m\u001b[38;5;241m.\u001b[39mservice\u001b[38;5;241m.\u001b[39mpath \u001b[38;5;241m=\u001b[39m \u001b[43mDriverFinder\u001b[49m\u001b[38;5;241;43m.\u001b[39;49m\u001b[43mget_path\u001b[49m\u001b[43m(\u001b[49m\u001b[38;5;28;43mself\u001b[39;49m\u001b[38;5;241;43m.\u001b[39;49m\u001b[43mservice\u001b[49m\u001b[43m,\u001b[49m\u001b[43m \u001b[49m\u001b[43moptions\u001b[49m\u001b[43m)\u001b[49m\n\u001b[1;32m     60\u001b[0m \u001b[38;5;28mself\u001b[39m\u001b[38;5;241m.\u001b[39mservice\u001b[38;5;241m.\u001b[39mstart()\n\u001b[1;32m     62\u001b[0m executor \u001b[38;5;241m=\u001b[39m FirefoxRemoteConnection(\n\u001b[1;32m     63\u001b[0m     remote_server_addr\u001b[38;5;241m=\u001b[39m\u001b[38;5;28mself\u001b[39m\u001b[38;5;241m.\u001b[39mservice\u001b[38;5;241m.\u001b[39mservice_url,\n\u001b[1;32m     64\u001b[0m     keep_alive\u001b[38;5;241m=\u001b[39mkeep_alive,\n\u001b[1;32m     65\u001b[0m     ignore_proxy\u001b[38;5;241m=\u001b[39moptions\u001b[38;5;241m.\u001b[39m_ignore_local_proxy,\n\u001b[1;32m     66\u001b[0m )\n",
      "File \u001b[0;32m/opt/conda/envs/wier/lib/python3.9/site-packages/selenium/webdriver/common/driver_finder.py:44\u001b[0m, in \u001b[0;36mDriverFinder.get_path\u001b[0;34m(service, options)\u001b[0m\n\u001b[1;32m     41\u001b[0m     \u001b[38;5;28;01mraise\u001b[39;00m NoSuchDriverException(msg) \u001b[38;5;28;01mfrom\u001b[39;00m \u001b[38;5;21;01merr\u001b[39;00m\n\u001b[1;32m     43\u001b[0m \u001b[38;5;28;01mif\u001b[39;00m path \u001b[38;5;129;01mis\u001b[39;00m \u001b[38;5;28;01mNone\u001b[39;00m \u001b[38;5;129;01mor\u001b[39;00m \u001b[38;5;129;01mnot\u001b[39;00m Path(path)\u001b[38;5;241m.\u001b[39mis_file():\n\u001b[0;32m---> 44\u001b[0m     \u001b[38;5;28;01mraise\u001b[39;00m NoSuchDriverException(\u001b[38;5;124mf\u001b[39m\u001b[38;5;124m\"\u001b[39m\u001b[38;5;124mUnable to locate or obtain driver for \u001b[39m\u001b[38;5;132;01m{\u001b[39;00moptions\u001b[38;5;241m.\u001b[39mcapabilities[\u001b[38;5;124m'\u001b[39m\u001b[38;5;124mbrowserName\u001b[39m\u001b[38;5;124m'\u001b[39m]\u001b[38;5;132;01m}\u001b[39;00m\u001b[38;5;124m\"\u001b[39m)\n\u001b[1;32m     46\u001b[0m \u001b[38;5;28;01mreturn\u001b[39;00m path\n",
      "\u001b[0;31mNoSuchDriverException\u001b[0m: Message: Unable to locate or obtain driver for firefox; For documentation on this error, please visit: https://www.selenium.dev/documentation/webdriver/troubleshooting/errors/driver_location\n"
     ]
    }
   ],
   "source": []
  }
 ],
 "metadata": {
  "kernelspec": {
   "display_name": "Python [conda env:wier] *",
   "language": "python",
   "name": "conda-env-wier-py"
  },
  "language_info": {
   "codemirror_mode": {
    "name": "ipython",
    "version": 3
   },
   "file_extension": ".py",
   "mimetype": "text/x-python",
   "name": "python",
   "nbconvert_exporter": "python",
   "pygments_lexer": "ipython3",
   "version": "3.9.18"
  }
 },
 "nbformat": 4,
 "nbformat_minor": 5
}
