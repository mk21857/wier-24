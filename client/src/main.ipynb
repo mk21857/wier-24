{
 "cells": [
  {
   "cell_type": "code",
   "execution_count": 1,
   "id": "cfa64a6e",
   "metadata": {
    "scrolled": true
   },
   "outputs": [
    {
     "name": "stdout",
     "output_type": "stream",
     "text": [
      "kaj so to pajki?\n"
     ]
    }
   ],
   "source": [
    "print('kaj so to pajki?')"
   ]
  },
  {
   "cell_type": "code",
   "execution_count": 2,
   "id": "2c42bcaa",
   "metadata": {},
   "outputs": [
    {
     "name": "stdout",
     "output_type": "stream",
     "text": [
      "<!DOCTYPE html><html><head>\n",
      "  <meta charset=\"utf-8\">\n",
      "  <title>ARSO vreme</title>\n",
      "  <base href=\"/\">\n",
      "\n",
      "  <meta name=\"viewport\" content=\"width=device-width, initial-scale=1\">\n",
      "  <link rel=\"icon\" type=\"image/x-icon\" href=\"favicon.ico\">\n",
      "  <style>html, \n",
      "body {\n",
      "    height: 100%;\n",
      "    margin:0;\n",
      "}\n",
      "\n",
      ".loading {\n",
      "    background: #0082bc;\n",
      "    color: #FFFFFF;\n",
      "    width:100%;\n",
      "    height:100%;\n",
      "    margin:0;\n",
      "}\n",
      "\n",
      ".loading span {\n",
      "    display:none;\n",
      "    position:absolute;\n",
      "    top:20px;\n",
      "    left:20px;\n",
      "    font-family: 'Open Sans', arial, helvetica, sans-serif;\n",
      "}\n",
      "\n",
      ".loading img {\n",
      "    width:150px;\n",
      "    height:22px;\n",
      "    margin-left:100px;\n",
      "    margin-top:50px;\n",
      "}</style><link rel=\"stylesheet\" type=\"text/css\" href=\"default.css\" media=\"print\" onload=\"this.media='all'\"><noscript><link rel=\"stylesheet\" href=\"default.css\"></noscript>\n",
      "  <style>/* Slider */\n",
      "</style><link rel=\"stylesheet\" type=\"text/css\" href=\"slick.css\" media=\"print\" onload=\"this.media='all'\"><noscript><link rel=\"stylesheet\" href=\"slick.css\"></noscript>\n",
      "  <style>@charset 'UTF-8'\n",
      "/* Slider */\n",
      "\n",
      "/* Icons */\n",
      "/* Arrows */\n",
      "\n",
      "/* Dots */\n",
      "</style><link rel=\"stylesheet\" type=\"text/css\" href=\"slick-theme.css\" media=\"print\" onload=\"this.media='all'\"><noscript><link rel=\"stylesheet\" href=\"slick-theme.css\"></noscript>\n",
      "\n",
      "  <link rel=\"apple-touch-icon-precomposed\" sizes=\"57x57\" href=\"apple-touch-icon-57x57.png\">\n",
      "  <link rel=\"apple-touch-icon-precomposed\" sizes=\"114x114\" href=\"apple-touch-icon-114x114.png\">\n",
      "  <link rel=\"apple-touch-icon-precomposed\" sizes=\"72x72\" href=\"apple-touch-icon-72x72.png\">\n",
      "  <link rel=\"apple-touch-icon-precomposed\" sizes=\"144x144\" href=\"apple-touch-icon-144x144.png\">\n",
      "  <link rel=\"apple-touch-icon-precomposed\" sizes=\"60x60\" href=\"apple-touch-icon-60x60.png\">\n",
      "  <link rel=\"apple-touch-icon-precomposed\" sizes=\"120x120\" href=\"apple-touch-icon-120x120.png\">\n",
      "  <link rel=\"apple-touch-icon-precomposed\" sizes=\"76x76\" href=\"apple-touch-icon-76x76.png\">\n",
      "  <link rel=\"apple-touch-icon-precomposed\" sizes=\"152x152\" href=\"apple-touch-icon-152x152.png\">\n",
      "  <link rel=\"apple-touch-icon-precomposed\" sizes=\"180x180\" href=\"apple-touch-icon-180x180.png\">\n",
      "  <link rel=\"apple-touch-icon\" sizes=\"57x57\" href=\"apple-touch-icon-57x57.png\">\n",
      "  <link rel=\"apple-touch-icon\" sizes=\"114x114\" href=\"apple-touch-icon-114x114.png\">\n",
      "  <link rel=\"apple-touch-icon\" sizes=\"72x72\" href=\"apple-touch-icon-72x72.png\">\n",
      "  <link rel=\"apple-touch-icon\" sizes=\"144x144\" href=\"apple-touch-icon-144x144.png\">\n",
      "  <link rel=\"apple-touch-icon\" sizes=\"60x60\" href=\"apple-touch-icon-60x60.png\">\n",
      "  <link rel=\"apple-touch-icon\" sizes=\"120x120\" href=\"apple-touch-icon-120x120.png\">\n",
      "  <link rel=\"apple-touch-icon\" sizes=\"76x76\" href=\"apple-touch-icon-76x76.png\">\n",
      "  <link rel=\"apple-touch-icon\" sizes=\"152x152\" href=\"apple-touch-icon-152x152.png\">\n",
      "  <link rel=\"apple-touch-icon\" sizes=\"180x180\" href=\"apple-touch-icon-180x180.png\">\n",
      "  <link rel=\"icon\" type=\"image/png\" href=\"favicon-196x196.png\" sizes=\"196x196\">\n",
      "  <link rel=\"icon\" type=\"image/png\" href=\"favicon-192x192.png\" sizes=\"192x192\">\n",
      "  <link rel=\"icon\" type=\"image/png\" href=\"favicon-96x96.png\" sizes=\"96x96\">\n",
      "  <link rel=\"icon\" type=\"image/png\" href=\"favicon-32x32.png\" sizes=\"32x32\">\n",
      "  <link rel=\"icon\" type=\"image/png\" href=\"favicon-16x16.png\" sizes=\"16x16\">\n",
      "  <link rel=\"icon\" type=\"image/png\" href=\"favicon-128.png\" sizes=\"128x128\">\n",
      "  <meta name=\"application-name\" content=\"&nbsp;\">\n",
      "  <meta name=\"msapplication-TileColor\" content=\"#FFFFFF\">\n",
      "  <meta name=\"msapplication-TileImage\" content=\"mstile-144x144.png\">\n",
      "  <meta name=\"msapplication-square70x70logo\" content=\"mstile-70x70.png\">\n",
      "  <meta name=\"msapplication-square150x150logo\" content=\"mstile-150x150.png\">\n",
      "  <meta name=\"msapplication-wide310x150logo\" content=\"mstile-310x150.png\">\n",
      "  <meta name=\"msapplication-square310x310logo\" content=\"mstile-310x310.png\">\n",
      "  <meta name=\"mobile-web-app-capable\" content=\"yes\">\n",
      "  <meta name=\"apple-mobile-web-app-capable\" content=\"yes\">\n",
      "  <meta name=\"apple-mobile-web-app-status-bar-style\" content=\"black\">\n",
      "\n",
      "  <meta property=\"og:image\" content=\"/static/images/NovoARSOvreme.png\">\n",
      "  <meta property=\"og:title\" content=\"ARSO vreme\">\n",
      "  <meta property=\"og:description\" content=\"Desetdnevna vremenska napoved za priljubljene lokacije.\">\n",
      "\n",
      "  <link rel=\"manifest\" href=\"manifest.json\">\n",
      "  <meta name=\"theme-color\" content=\"#1976d2\">\n",
      "<style>* {\n",
      "  box-sizing: border-box;\n",
      "}\n",
      "\n",
      "html, body, div, span, img {\n",
      "  margin: 0;\n",
      "  padding: 0;\n",
      "  border: 0;\n",
      "  font-size: 100%;\n",
      "  vertical-align: baseline;\n",
      "}\n",
      "\n",
      "body {\n",
      "  line-height: 1;\n",
      "}\n",
      "\n",
      "</style><link rel=\"stylesheet\" href=\"styles.2aefe1fac85b0e08.css\" media=\"print\" onload=\"this.media='all'\"><noscript><link rel=\"stylesheet\" href=\"styles.2aefe1fac85b0e08.css\"></noscript></head>\n",
      "<body>\n",
      "  <app-root><div class=\"loading\"><span id=\"loading-msg\">Nalagam ...</span><img src=\"app/common/images/svg/menu/arso_vreme.svg\"></div></app-root>\n",
      "  <script type=\"text/javascript\">\n",
      "    if (document.getElementById(\"loading-msg\")) {\n",
      "      document.getElementById(\"loading-msg\").style.display = \"block\";\n",
      "    }\n",
      "\n",
      "    (function(i,s,o,g,r,a,m){i['GoogleAnalyticsObject']=r;i[r]=i[r]||function(){\n",
      "        (i[r].q=i[r].q||[]).push(arguments)},i[r].l=1*new Date();a=s.createElement(o),\n",
      "      m=s.getElementsByTagName(o)[0];a.async=1;a.src=g;m.parentNode.insertBefore(a,m)\n",
      "    })(window,document,'script','https://www.google-analytics.com/analytics.js','ga');\n",
      "  </script>\n",
      "  <noscript>Please enable JavaScript to continue using this application.</noscript>\n",
      "<script src=\"runtime.05925c18eb427752.js\" type=\"module\"></script><script src=\"polyfills.2c6b11c2a043b4c3.js\" type=\"module\"></script><script src=\"main.d5da1089b987732a.js\" type=\"module\"></script>\n",
      "\n",
      "</body></html>\n"
     ]
    }
   ],
   "source": [
    "# Simple usage of urllib to scrape a static website\n",
    "\n",
    "import urllib\n",
    "\n",
    "WEB_PAGE_ADDRESS = \"https://vreme.arso.gov.si\"\n",
    "\n",
    "request = urllib.request.Request(\n",
    "    WEB_PAGE_ADDRESS, \n",
    "    headers={'User-Agent': 'fri-ieps-TEST'}\n",
    ")\n",
    "\n",
    "with urllib.request.urlopen(request) as response: \n",
    "    html = response.read().decode(\"utf-8\")\n",
    "    print(html)"
   ]
  },
  {
   "cell_type": "code",
   "execution_count": 10,
   "id": "02829958",
   "metadata": {
    "scrolled": true
   },
   "outputs": [
    {
     "name": "stderr",
     "output_type": "stream",
     "text": [
      "/opt/conda/envs/wier/lib/python3.9/site-packages/urllib3/connectionpool.py:1099: InsecureRequestWarning: Unverified HTTPS request is being made to host 'api'. Adding certificate verification is strongly advised. See: https://urllib3.readthedocs.io/en/latest/advanced-usage.html#tls-warnings\n",
      "  warnings.warn(\n"
     ]
    },
    {
     "data": {
      "text/html": [
       "<!DOCTYPE html>\n",
       "<html>\n",
       "<head>\n",
       "    <title>API Home Page</title>\n",
       "</head>\n",
       "<body>\n",
       "    <h1>Welcome to PAJKI API!</h1>\n",
       "    <h2>Here are the available endpoints:</h2>\n",
       "    <ul>\n",
       "        <li>\n",
       "            <h3>/test_connection</h3>\n",
       "            <p>Returns a success message indicating that the API connection is working.</p>\n",
       "        </li>\n",
       "        <li>\n",
       "            <h3>/execute_script/:script_name</h3>\n",
       "            <p>Executes a script specified by the :script_name parameter.</p>\n",
       "        </li>\n",
       "        <li>\n",
       "            <h3>/drop_db</h3>\n",
       "            <p>Drops the entire database.</p>\n",
       "        </li>\n",
       "        <li>\n",
       "            <h3>/get_tables</h3>\n",
       "            <p>Returns a list of all tables in the database.</p>\n",
       "        </li>\n",
       "    </ul>\n",
       "</body>\n",
       "</html>"
      ],
      "text/plain": [
       "<IPython.core.display.HTML object>"
      ]
     },
     "metadata": {},
     "output_type": "display_data"
    }
   ],
   "source": [
    "# Connect to Flask API\n",
    "\n",
    "import requests\n",
    "from IPython.display import display, HTML\n",
    "\n",
    "AUTH = (\"admin\", \"admin\") # Development authentication\n",
    "ENDPOINT = \"https://api:5000\" # Accessible inside Docker network\n",
    "\n",
    "response = requests.get(ENDPOINT + \"/\", verify = False, auth = AUTH)\n",
    "\n",
    "# Check if the request was successful\n",
    "if response.status_code == 200:\n",
    "    # Get the HTML content from the response\n",
    "    html_content = response.text\n",
    "    # Display the HTML content\n",
    "    display(HTML(html_content))\n",
    "else:\n",
    "    print(\"Failed to retrieve HTML content:\", response.status_code)"
   ]
  },
  {
   "cell_type": "code",
   "execution_count": 11,
   "id": "75f561c1",
   "metadata": {},
   "outputs": [
    {
     "name": "stderr",
     "output_type": "stream",
     "text": [
      "/opt/conda/envs/wier/lib/python3.9/site-packages/urllib3/connectionpool.py:1099: InsecureRequestWarning: Unverified HTTPS request is being made to host 'api'. Adding certificate verification is strongly advised. See: https://urllib3.readthedocs.io/en/latest/advanced-usage.html#tls-warnings\n",
      "  warnings.warn(\n"
     ]
    },
    {
     "name": "stdout",
     "output_type": "stream",
     "text": [
      "Connection to database successful!\n"
     ]
    }
   ],
   "source": [
    "# Test database connection\n",
    "\n",
    "response = requests.get(ENDPOINT + \"/test_connection\", verify = False, auth = AUTH).json()\n",
    "\n",
    "if response['success'] == True:\n",
    "    print(response['message'])\n",
    "else:\n",
    "    print(response['error'])"
   ]
  },
  {
   "cell_type": "code",
   "execution_count": 16,
   "id": "42c63794",
   "metadata": {},
   "outputs": [
    {
     "name": "stdout",
     "output_type": "stream",
     "text": [
      "Script 'script_name.sql' does not exist.\n"
     ]
    },
    {
     "name": "stderr",
     "output_type": "stream",
     "text": [
      "/opt/conda/envs/wier/lib/python3.9/site-packages/urllib3/connectionpool.py:1099: InsecureRequestWarning: Unverified HTTPS request is being made to host 'api'. Adding certificate verification is strongly advised. See: https://urllib3.readthedocs.io/en/latest/advanced-usage.html#tls-warnings\n",
      "  warnings.warn(\n"
     ]
    }
   ],
   "source": [
    "# Execute an SQL script\n",
    "\n",
    "# Enter the SQL script you want to execute\n",
    "script = 'script_name.sql'\n",
    "\n",
    "response = requests.post(ENDPOINT + f\"/execute_script/{script}\", verify = False, auth = AUTH).json()\n",
    "\n",
    "if response['success'] == True:\n",
    "    print(response['message'])\n",
    "else:\n",
    "    print(response['error'])"
   ]
  },
  {
   "cell_type": "code",
   "execution_count": 18,
   "id": "d10b07bf",
   "metadata": {},
   "outputs": [
    {
     "name": "stdout",
     "output_type": "stream",
     "text": [
      "This operation is disabled! Enable it by commenting out the code.\n"
     ]
    },
    {
     "name": "stderr",
     "output_type": "stream",
     "text": [
      "/opt/conda/envs/wier/lib/python3.9/site-packages/urllib3/connectionpool.py:1099: InsecureRequestWarning: Unverified HTTPS request is being made to host 'api'. Adding certificate verification is strongly advised. See: https://urllib3.readthedocs.io/en/latest/advanced-usage.html#tls-warnings\n",
      "  warnings.warn(\n"
     ]
    }
   ],
   "source": [
    "# Drop the whole database\n",
    "\n",
    "response = requests.post(ENDPOINT + \"/drop_db\", verify = False, auth = AUTH).json()\n",
    "\n",
    "if response['success'] == True:\n",
    "    print(response['message'])\n",
    "else:\n",
    "    print(response['error'])"
   ]
  },
  {
   "cell_type": "code",
   "execution_count": 14,
   "id": "d0a779a0",
   "metadata": {},
   "outputs": [
    {
     "name": "stderr",
     "output_type": "stream",
     "text": [
      "/opt/conda/envs/wier/lib/python3.9/site-packages/urllib3/connectionpool.py:1099: InsecureRequestWarning: Unverified HTTPS request is being made to host 'api'. Adding certificate verification is strongly advised. See: https://urllib3.readthedocs.io/en/latest/advanced-usage.html#tls-warnings\n",
      "  warnings.warn(\n"
     ]
    },
    {
     "name": "stdout",
     "output_type": "stream",
     "text": [
      "Successfully retrieved all tables from 'crawldb'.\n",
      "['page', 'image', 'link', 'site', 'page_type', 'page_data', 'data_type']\n"
     ]
    }
   ],
   "source": [
    "# Get all tables from the database\n",
    "\n",
    "response = requests.get(ENDPOINT + \"/get_tables\", verify = False, auth = AUTH).json()\n",
    "\n",
    "if response['success'] == True:\n",
    "    print(response['message'])\n",
    "    print(response['data'])\n",
    "else:\n",
    "    print(response['error'])"
   ]
  }
 ],
 "metadata": {
  "kernelspec": {
   "display_name": "Python [conda env:wier] *",
   "language": "python",
   "name": "conda-env-wier-py"
  },
  "language_info": {
   "codemirror_mode": {
    "name": "ipython",
    "version": 3
   },
   "file_extension": ".py",
   "mimetype": "text/x-python",
   "name": "python",
   "nbconvert_exporter": "python",
   "pygments_lexer": "ipython3",
   "version": "3.9.18"
  }
 },
 "nbformat": 4,
 "nbformat_minor": 5
}
