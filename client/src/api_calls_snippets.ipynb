{
 "cells": [
  {
   "cell_type": "code",
   "execution_count": 1,
   "id": "42733ef6",
   "metadata": {},
   "outputs": [
    {
     "name": "stderr",
     "output_type": "stream",
     "text": [
      "/opt/conda/envs/wier/lib/python3.9/site-packages/urllib3/connectionpool.py:1099: InsecureRequestWarning: Unverified HTTPS request is being made to host 'api'. Adding certificate verification is strongly advised. See: https://urllib3.readthedocs.io/en/latest/advanced-usage.html#tls-warnings\n",
      "  warnings.warn(\n"
     ]
    },
    {
     "data": {
      "text/html": [
       "<!DOCTYPE html>\n",
       "<html>\n",
       "<head>\n",
       "    <title>API Home Page</title>\n",
       "</head>\n",
       "<body>\n",
       "    <h1>Welcome to PAJKI API!</h1>\n",
       "    <h2>Here are the available endpoints:</h2>\n",
       "    <ul>\n",
       "        <li>\n",
       "            <h3>/test_connection</h3>\n",
       "            <p>Returns a success message indicating that the API connection is working.</p>\n",
       "        </li>\n",
       "        <li>\n",
       "            <h3>/execute_script/:script_name</h3>\n",
       "            <p>Executes a script specified by the :script_name parameter.</p>\n",
       "        </li>\n",
       "        <li>\n",
       "            <h3>/drop_db</h3>\n",
       "            <p>Drops the entire database.</p>\n",
       "        </li>\n",
       "        <li>\n",
       "            <h3>/get_tables</h3>\n",
       "            <p>Returns a list of all tables in the database.</p>\n",
       "        </li>\n",
       "    </ul>\n",
       "</body>\n",
       "</html>"
      ],
      "text/plain": [
       "<IPython.core.display.HTML object>"
      ]
     },
     "metadata": {},
     "output_type": "display_data"
    }
   ],
   "source": [
    "# Connect to Flask API\n",
    "\n",
    "import requests\n",
    "from IPython.display import display, HTML\n",
    "\n",
    "AUTH = (\"admin\", \"admin\") # Development authentication\n",
    "ENDPOINT = \"https://api:5000\" # Accessible inside Docker network\n",
    "\n",
    "response = requests.get(ENDPOINT + \"/\", verify = False, auth = AUTH)\n",
    "\n",
    "# Check if the request was successful\n",
    "if response.status_code == 200:\n",
    "    # Get the HTML content from the response\n",
    "    html_content = response.text\n",
    "    # Display the HTML content\n",
    "    display(HTML(html_content))\n",
    "else:\n",
    "    print(\"Failed to retrieve HTML content:\", response.status_code)"
   ]
  },
  {
   "cell_type": "markdown",
   "id": "829e37a2",
   "metadata": {},
   "source": [
    "### What do API calls return?\n",
    "#### API calls will normally return a JSON of the following structure:\n",
    "\n",
    "**On success:**\n",
    "\n",
    "`{ 'success': boolean, 'message': string, 'data': any }`\n",
    "\n",
    "**On error:**\n",
    "\n",
    "`{ 'success': boolean, 'error': string }`\n",
    "\n",
    "If unsure, print(response.text) to get the whole response (without calling .json())."
   ]
  },
  {
   "cell_type": "code",
   "execution_count": 3,
   "id": "b9c89707",
   "metadata": {},
   "outputs": [
    {
     "name": "stdout",
     "output_type": "stream",
     "text": [
      "Successfully retrieved all tables from 'crawldb'.\n",
      "['page', 'image', 'link', 'site', 'page_type', 'page_data', 'data_type']\n"
     ]
    },
    {
     "name": "stderr",
     "output_type": "stream",
     "text": [
      "/opt/conda/envs/wier/lib/python3.9/site-packages/urllib3/connectionpool.py:1099: InsecureRequestWarning: Unverified HTTPS request is being made to host 'api'. Adding certificate verification is strongly advised. See: https://urllib3.readthedocs.io/en/latest/advanced-usage.html#tls-warnings\n",
      "  warnings.warn(\n"
     ]
    }
   ],
   "source": [
    "# Get all tables in the database to verify the architecture\n",
    "\n",
    "response = requests.get(ENDPOINT + \"/get_tables\", verify = False, auth = AUTH).json()\n",
    "\n",
    "# Check if the request was successful\n",
    "if response['success'] == True:\n",
    "    print(response['message'])\n",
    "    print(response['data'])\n",
    "else:\n",
    "    print(response['error'])"
   ]
  },
  {
   "cell_type": "code",
   "execution_count": 13,
   "id": "741b35c7",
   "metadata": {},
   "outputs": [
    {
     "name": "stderr",
     "output_type": "stream",
     "text": [
      "/opt/conda/envs/wier/lib/python3.9/site-packages/urllib3/connectionpool.py:1099: InsecureRequestWarning: Unverified HTTPS request is being made to host 'api'. Adding certificate verification is strongly advised. See: https://urllib3.readthedocs.io/en/latest/advanced-usage.html#tls-warnings\n",
      "  warnings.warn(\n"
     ]
    },
    {
     "name": "stdout",
     "output_type": "stream",
     "text": [
      "Frontier pages fetched successfully!\n",
      "[[1, 'https://example.com/page1'], [3, 'https://example.com/page2'], [5, 'https://example.com/page3'], [6, 'https://example.com/page4']]\n"
     ]
    }
   ],
   "source": [
    "# GET FRONTIER\n",
    "\n",
    "# Returns\n",
    "# [[id, url], [id2, url2], ...]\n",
    "\n",
    "response = requests.get(ENDPOINT + \"/get_frontier_pages\", json=data, verify = False, auth = AUTH).json()\n",
    "\n",
    "if response['success'] == True:\n",
    "    print(response['message'])\n",
    "    print(response['data'])\n",
    "else:\n",
    "    print(response['error'])"
   ]
  },
  {
   "cell_type": "code",
   "execution_count": 11,
   "id": "39b44306",
   "metadata": {},
   "outputs": [
    {
     "name": "stderr",
     "output_type": "stream",
     "text": [
      "/opt/conda/envs/wier/lib/python3.9/site-packages/urllib3/connectionpool.py:1099: InsecureRequestWarning: Unverified HTTPS request is being made to host 'api'. Adding certificate verification is strongly advised. See: https://urllib3.readthedocs.io/en/latest/advanced-usage.html#tls-warnings\n",
      "  warnings.warn(\n"
     ]
    },
    {
     "name": "stdout",
     "output_type": "stream",
     "text": [
      "duplicate key value violates unique constraint \"unq_url_idx\"\n",
      "DETAIL:  Key (url)=(https://example.com/page4) already exists.\n",
      "\n"
     ]
    }
   ],
   "source": [
    "# Insert PAGE into FRONTIER\n",
    "\n",
    "# Takes:\n",
    "data = {\n",
    "  \"domain\": \"example.com\",\n",
    "  \"url\": \"https://example.com/page4\"\n",
    "}\n",
    "\n",
    "# Returns:\n",
    "# page_id\n",
    "\n",
    "response = requests.post(ENDPOINT + \"/insert_page_into_frontier\", json=data, verify = False, auth = AUTH).json()\n",
    "\n",
    "if response['success'] == True:\n",
    "    print(response['message'])\n",
    "    print(response['data'])\n",
    "else:\n",
    "    print(response['error'])"
   ]
  },
  {
   "cell_type": "code",
   "execution_count": null,
   "id": "b1fef6ca",
   "metadata": {},
   "outputs": [],
   "source": [
    "# Update PAGE data\n",
    "\n",
    "# Takes:\n",
    "data = {\n",
    "    \"url\": \"https://example.com/page4\",\n",
    "    \"page_type\": \"NOT_FRONTIER\"\n",
    "    \"html_content\": \"<html><body>Sample HTML content</body></html>\",\n",
    "    \"http_status_code\": 200,\n",
    "    \"accessed_time\": \"2024-04-06T12:34:56\"\n",
    "}\n",
    "\n",
    "# Returns:\n",
    "# nothing\n",
    "\n",
    "response = requests.post(ENDPOINT + \"/update_page_data\", json=data, verify = False, auth = AUTH).json()\n",
    "\n",
    "if response['success'] == True:\n",
    "    print(response['message'])\n",
    "#     print(response['data'])\n",
    "else:\n",
    "    print(response['error'])"
   ]
  },
  {
   "cell_type": "code",
   "execution_count": null,
   "id": "5c6501b0",
   "metadata": {},
   "outputs": [],
   "source": [
    "# GET hash values\n",
    "\n",
    "# Returns:\n",
    "# [hash, hash1, hash2]\n",
    "\n",
    "response = requests.get(ENDPOINT + \"/get_hash_values\", json=data, verify = False, auth = AUTH).json()\n",
    "\n",
    "if response['success'] == True:\n",
    "    print(response['message'])\n",
    "    print(response['data'])\n",
    "else:\n",
    "    print(response['error'])"
   ]
  },
  {
   "cell_type": "code",
   "execution_count": 25,
   "id": "8dd96c68",
   "metadata": {},
   "outputs": [
    {
     "name": "stdout",
     "output_type": "stream",
     "text": [
      "{'message': 'Connection to database successful!', 'success': True}\n"
     ]
    },
    {
     "name": "stderr",
     "output_type": "stream",
     "text": [
      "/opt/conda/envs/wier/lib/python3.9/site-packages/urllib3/connectionpool.py:1099: InsecureRequestWarning: Unverified HTTPS request is being made to host 'api'. Adding certificate verification is strongly advised. See: https://urllib3.readthedocs.io/en/latest/advanced-usage.html#tls-warnings\n",
      "  warnings.warn(\n"
     ]
    }
   ],
   "source": [
    "import api_calls as ac\n",
    "\n",
    "res = ac.test_connection()\n",
    "\n",
    "print(res)"
   ]
  }
 ],
 "metadata": {
  "kernelspec": {
   "display_name": "Python [conda env:wier] *",
   "language": "python",
   "name": "conda-env-wier-py"
  },
  "language_info": {
   "codemirror_mode": {
    "name": "ipython",
    "version": 3
   },
   "file_extension": ".py",
   "mimetype": "text/x-python",
   "name": "python",
   "nbconvert_exporter": "python",
   "pygments_lexer": "ipython3",
   "version": "3.9.18"
  }
 },
 "nbformat": 4,
 "nbformat_minor": 5
}
