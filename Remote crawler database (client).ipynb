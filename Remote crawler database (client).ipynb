{
 "cells": [
  {
   "cell_type": "markdown",
   "id": "solved-coordinate",
   "metadata": {},
   "source": [
    "# Remote crawler database (client)\n",
    "\n",
    "When we have the server part running, we should use the implemented REST endpoints to communicate with our database. We use the *requests* library to implement a client.\n",
    "\n",
    "First we will set up parameters and disable warning messages (our SSL certificate is not signed by a trusted authority)."
   ]
  },
  {
   "cell_type": "code",
   "execution_count": null,
   "id": "solar-ownership",
   "metadata": {},
   "outputs": [],
   "source": [
    "import requests"
   ]
  },
  {
   "cell_type": "code",
   "execution_count": null,
   "id": "nervous-programming",
   "metadata": {},
   "outputs": [],
   "source": [
    "AUTH = (\"Crawler1\", \"BestNonencryptedPasswordEver!!!\")\n",
    "ENDPOINT = \"https://127.0.0.1:5000\""
   ]
  },
  {
   "cell_type": "code",
   "execution_count": null,
   "id": "adapted-maria",
   "metadata": {},
   "outputs": [],
   "source": [
    "print(requests.get(ENDPOINT + \"/db/get_values\", verify = False, auth = AUTH).json())"
   ]
  },
  {
   "cell_type": "markdown",
   "id": "returning-diversity",
   "metadata": {},
   "source": [
    "Disable warnings and try again"
   ]
  },
  {
   "cell_type": "code",
   "execution_count": null,
   "id": "rapid-transcription",
   "metadata": {},
   "outputs": [],
   "source": [
    "import urllib3\n",
    "urllib3.disable_warnings(urllib3.exceptions.InsecureRequestWarning)"
   ]
  },
  {
   "cell_type": "code",
   "execution_count": null,
   "id": "undefined-panama",
   "metadata": {},
   "outputs": [],
   "source": [
    "print(requests.get(ENDPOINT + \"/db/get_values\", verify = False, auth = AUTH).json())"
   ]
  },
  {
   "cell_type": "markdown",
   "id": "funny-python",
   "metadata": {},
   "source": [
    "### Showcase example\n",
    "\n",
    "First we define the two methods that will be called in parallel by two groups of three workers. Each method will call its own endpoint to increase a counter value in a database."
   ]
  },
  {
   "cell_type": "code",
   "execution_count": null,
   "id": "handy-impression",
   "metadata": {},
   "outputs": [],
   "source": [
    "def increase_db_values(counter_id, increases):\n",
    "    for i in range(increases):\n",
    "        requests.post(ENDPOINT + f\"/db/increase/{counter_id}\", verify = False, auth = AUTH)\n",
    "        \n",
    "def increase_db_values_locking(counter_id, increases):\n",
    "    for i in range(increases):\n",
    "        requests.post(ENDPOINT + f\"/db/increase_locking/{counter_id}\", verify = False, auth = AUTH)"
   ]
  },
  {
   "cell_type": "markdown",
   "id": "caroline-strip",
   "metadata": {},
   "source": [
    "Now we run the client program (e.g. one multi-threaded instance of a crawler) as initially presented in the *Web crawling - basic tools* notebook."
   ]
  },
  {
   "cell_type": "code",
   "execution_count": null,
   "id": "closing-banks",
   "metadata": {},
   "outputs": [],
   "source": [
    "import concurrent.futures\n",
    "\n",
    "# reset_db_values\n",
    "requests.post(ENDPOINT + \"/db/reset\", verify = False, auth = AUTH).json()\n",
    "# print_db_values\n",
    "print(requests.get(ENDPOINT + \"/db/get_values\", verify = False, auth = AUTH).json())\n",
    "\n",
    "with concurrent.futures.ThreadPoolExecutor(max_workers=6) as executor:\n",
    "    print(f\"\\n ... executing workers ...\\n\")\n",
    "    for _ in range(3):\n",
    "        executor.submit(increase_db_values, 1,1000)\n",
    "    for _ in range(3):\n",
    "        executor.submit(increase_db_values_locking, 2,1000)\n",
    "    \n",
    "# print_db_values\n",
    "print(requests.get(ENDPOINT + \"/db/get_values\", verify = False, auth = AUTH).json())"
   ]
  },
  {
   "cell_type": "markdown",
   "id": "according-retirement",
   "metadata": {},
   "source": [
    "You should get an output similar to the following:\n",
    "    \n",
    "> [{'1': 0}, {'2': 0}]\n",
    "> \n",
    ">  ... executing workers ...\n",
    ">\n",
    "> [{'1': 2217}, {'2': 3000}]"
   ]
  }
 ],
 "metadata": {
  "kernelspec": {
   "display_name": "Python [conda env:wier] *",
   "language": "python",
   "name": "conda-env-wier-py"
  },
  "language_info": {
   "codemirror_mode": {
    "name": "ipython",
    "version": 3
   },
   "file_extension": ".py",
   "mimetype": "text/x-python",
   "name": "python",
   "nbconvert_exporter": "python",
   "pygments_lexer": "ipython3",
   "version": "3.6.12"
  }
 },
 "nbformat": 4,
 "nbformat_minor": 5
}
